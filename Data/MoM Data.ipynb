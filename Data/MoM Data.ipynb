{
 "cells": [
  {
   "cell_type": "code",
   "execution_count": 1,
   "metadata": {
    "ExecuteTime": {
     "end_time": "2019-12-14T12:32:42.431857Z",
     "start_time": "2019-12-14T12:32:41.788482Z"
    }
   },
   "outputs": [],
   "source": [
    "import os\n",
    "import numpy as np\n",
    "import pandas as pd\n",
    "import glob"
   ]
  },
  {
   "cell_type": "code",
   "execution_count": 18,
   "metadata": {
    "ExecuteTime": {
     "end_time": "2019-12-14T12:43:22.446479Z",
     "start_time": "2019-12-14T12:42:36.134619Z"
    }
   },
   "outputs": [
    {
     "name": "stderr",
     "output_type": "stream",
     "text": [
      "//anaconda3/envs/geo/lib/python3.7/site-packages/ipykernel_launcher.py:13: FutureWarning: Sorting because non-concatenation axis is not aligned. A future version\n",
      "of pandas will change to not sort by default.\n",
      "\n",
      "To accept the future behavior, pass 'sort=False'.\n",
      "\n",
      "To retain the current behavior and silence the warning, pass 'sort=True'.\n",
      "\n",
      "  del sys.path[0]\n"
     ]
    }
   ],
   "source": [
    "dr = os.getcwd()\n",
    "fdr = 'Airbnb-M'\n",
    "\n",
    "path = os.path.join(dr,fdr)\n",
    "all_files = glob.glob(path + \"/*.csv\")\n",
    "\n",
    "li = []\n",
    "\n",
    "for filename in all_files:\n",
    "    df = pd.read_csv(filename, index_col=None, header=0)\n",
    "    li.append(df)\n",
    "\n",
    "DF = pd.concat(li, axis=0, ignore_index=True)"
   ]
  },
  {
   "cell_type": "code",
   "execution_count": 19,
   "metadata": {
    "ExecuteTime": {
     "end_time": "2019-12-14T12:43:28.352028Z",
     "start_time": "2019-12-14T12:43:28.344642Z"
    }
   },
   "outputs": [
    {
     "data": {
      "text/plain": [
       "['access',\n",
       " 'accommodates',\n",
       " 'amenities',\n",
       " 'availability_30',\n",
       " 'availability_365',\n",
       " 'availability_60',\n",
       " 'availability_90',\n",
       " 'bathrooms',\n",
       " 'bed_type',\n",
       " 'bedrooms',\n",
       " 'beds',\n",
       " 'calculated_host_listings_count',\n",
       " 'calculated_host_listings_count_entire_homes',\n",
       " 'calculated_host_listings_count_private_rooms',\n",
       " 'calculated_host_listings_count_shared_rooms',\n",
       " 'calendar_last_scraped',\n",
       " 'calendar_updated',\n",
       " 'cancellation_policy',\n",
       " 'city',\n",
       " 'cleaning_fee',\n",
       " 'country',\n",
       " 'country_code',\n",
       " 'description',\n",
       " 'experiences_offered',\n",
       " 'extra_people',\n",
       " 'first_review',\n",
       " 'guests_included',\n",
       " 'has_availability',\n",
       " 'host_about',\n",
       " 'host_acceptance_rate',\n",
       " 'host_has_profile_pic',\n",
       " 'host_id',\n",
       " 'host_identity_verified',\n",
       " 'host_is_superhost',\n",
       " 'host_listings_count',\n",
       " 'host_location',\n",
       " 'host_name',\n",
       " 'host_neighbourhood',\n",
       " 'host_picture_url',\n",
       " 'host_response_rate',\n",
       " 'host_response_time',\n",
       " 'host_since',\n",
       " 'host_thumbnail_url',\n",
       " 'host_total_listings_count',\n",
       " 'host_url',\n",
       " 'host_verifications',\n",
       " 'house_rules',\n",
       " 'id',\n",
       " 'instant_bookable',\n",
       " 'interaction',\n",
       " 'is_business_travel_ready',\n",
       " 'is_location_exact',\n",
       " 'jurisdiction_names',\n",
       " 'last_review',\n",
       " 'last_scraped',\n",
       " 'latitude',\n",
       " 'license',\n",
       " 'listing_url',\n",
       " 'longitude',\n",
       " 'market',\n",
       " 'maximum_maximum_nights',\n",
       " 'maximum_minimum_nights',\n",
       " 'maximum_nights',\n",
       " 'maximum_nights_avg_ntm',\n",
       " 'medium_url',\n",
       " 'minimum_maximum_nights',\n",
       " 'minimum_minimum_nights',\n",
       " 'minimum_nights',\n",
       " 'minimum_nights_avg_ntm',\n",
       " 'monthly_price',\n",
       " 'name',\n",
       " 'neighborhood_overview',\n",
       " 'neighbourhood',\n",
       " 'neighbourhood_cleansed',\n",
       " 'neighbourhood_group_cleansed',\n",
       " 'notes',\n",
       " 'number_of_reviews',\n",
       " 'number_of_reviews_ltm',\n",
       " 'picture_url',\n",
       " 'price',\n",
       " 'property_type',\n",
       " 'require_guest_phone_verification',\n",
       " 'require_guest_profile_picture',\n",
       " 'requires_license',\n",
       " 'review_scores_accuracy',\n",
       " 'review_scores_checkin',\n",
       " 'review_scores_cleanliness',\n",
       " 'review_scores_communication',\n",
       " 'review_scores_location',\n",
       " 'review_scores_rating',\n",
       " 'review_scores_value',\n",
       " 'reviews_per_month',\n",
       " 'room_type',\n",
       " 'scrape_id',\n",
       " 'security_deposit',\n",
       " 'smart_location',\n",
       " 'space',\n",
       " 'square_feet',\n",
       " 'state',\n",
       " 'street',\n",
       " 'summary',\n",
       " 'thumbnail_url',\n",
       " 'transit',\n",
       " 'weekly_price',\n",
       " 'xl_picture_url',\n",
       " 'zipcode']"
      ]
     },
     "execution_count": 19,
     "metadata": {},
     "output_type": "execute_result"
    }
   ],
   "source": [
    "list(DF.columns.values) "
   ]
  },
  {
   "cell_type": "code",
   "execution_count": 20,
   "metadata": {
    "ExecuteTime": {
     "end_time": "2019-12-14T12:43:37.026956Z",
     "start_time": "2019-12-14T12:43:32.363011Z"
    }
   },
   "outputs": [],
   "source": [
    "DF = DF[['latitude','longitude','price','room_type','minimum_nights',\n",
    "            'availability_365','last_scraped','zipcode','neighbourhood_group_cleansed']]\n",
    "DF = DF.loc[DF['neighbourhood_group_cleansed'] == 'Manhattan']"
   ]
  },
  {
   "cell_type": "code",
   "execution_count": 21,
   "metadata": {
    "ExecuteTime": {
     "end_time": "2019-12-14T12:43:39.214907Z",
     "start_time": "2019-12-14T12:43:39.204217Z"
    }
   },
   "outputs": [],
   "source": [
    "MT=['10026', '10027', '10030', '10037', '10039',\n",
    "   '10001', '10011', '10018', '10019', '10020', '10036',\n",
    "   '10029', '10035',\n",
    "   '10010', '10016', '10017', '10022',\n",
    "   '10012', '10013', '10014',\n",
    "   '10004', '10005', '10006', '10007', '10038', '10280',\n",
    "   '10002', '10003', '10009',\n",
    "   '10021', '10028', '10044', '10065', '10075', '10128',\n",
    "   '10023', '10024', '10025',\n",
    "   '10031', '10032', '10033', '10034', '10040']"
   ]
  },
  {
   "cell_type": "code",
   "execution_count": 22,
   "metadata": {
    "ExecuteTime": {
     "end_time": "2019-12-14T12:43:41.432858Z",
     "start_time": "2019-12-14T12:43:41.380954Z"
    }
   },
   "outputs": [],
   "source": [
    "DF=DF[DF['zipcode'].isin(MT)]"
   ]
  },
  {
   "cell_type": "code",
   "execution_count": 23,
   "metadata": {
    "ExecuteTime": {
     "end_time": "2019-12-14T12:43:42.888453Z",
     "start_time": "2019-12-14T12:43:42.877403Z"
    }
   },
   "outputs": [
    {
     "data": {
      "text/plain": [
       "['/Users/jean/Desktop/DV/Airbnb-M/listings 1.csv',\n",
       " '/Users/jean/Desktop/DV/Airbnb-M/listings 10.csv',\n",
       " '/Users/jean/Desktop/DV/Airbnb-M/listings 11.csv',\n",
       " '/Users/jean/Desktop/DV/Airbnb-M/listings 12.csv',\n",
       " '/Users/jean/Desktop/DV/Airbnb-M/listings 2.csv',\n",
       " '/Users/jean/Desktop/DV/Airbnb-M/listings 3.csv',\n",
       " '/Users/jean/Desktop/DV/Airbnb-M/listings 4.csv',\n",
       " '/Users/jean/Desktop/DV/Airbnb-M/listings 5.csv',\n",
       " '/Users/jean/Desktop/DV/Airbnb-M/listings 6.csv',\n",
       " '/Users/jean/Desktop/DV/Airbnb-M/listings 7.csv',\n",
       " '/Users/jean/Desktop/DV/Airbnb-M/listings 8.csv',\n",
       " '/Users/jean/Desktop/DV/Airbnb-M/listings 9.csv']"
      ]
     },
     "execution_count": 23,
     "metadata": {},
     "output_type": "execute_result"
    }
   ],
   "source": [
    "all_files"
   ]
  },
  {
   "cell_type": "code",
   "execution_count": 24,
   "metadata": {
    "ExecuteTime": {
     "end_time": "2019-12-14T12:43:47.609639Z",
     "start_time": "2019-12-14T12:43:47.586821Z"
    }
   },
   "outputs": [],
   "source": [
    "p=DF['last_scraped'].unique()"
   ]
  },
  {
   "cell_type": "code",
   "execution_count": 25,
   "metadata": {
    "ExecuteTime": {
     "end_time": "2019-12-14T12:43:49.172513Z",
     "start_time": "2019-12-14T12:43:49.164133Z"
    }
   },
   "outputs": [
    {
     "data": {
      "text/plain": [
       "array(['2018-10-03', '2019-07-09', '2019-07-08', '2019-08-07',\n",
       "       '2019-08-06', '2019-08-18', '2019-09-13', '2019-09-12',\n",
       "       '2018-11-04', '2018-11-03', '2018-12-06', '2019-01-09',\n",
       "       '2019-02-01', '2019-02-02', '2019-03-07', '2019-03-06',\n",
       "       '2019-04-03', '2019-04-04', '2019-05-04', '2019-05-03',\n",
       "       '2019-06-03', '2019-06-02'], dtype=object)"
      ]
     },
     "execution_count": 25,
     "metadata": {},
     "output_type": "execute_result"
    }
   ],
   "source": [
    "p"
   ]
  },
  {
   "cell_type": "code",
   "execution_count": 26,
   "metadata": {
    "ExecuteTime": {
     "end_time": "2019-12-14T12:44:07.139687Z",
     "start_time": "2019-12-14T12:44:05.418887Z"
    }
   },
   "outputs": [],
   "source": [
    "export_csv = DF.to_csv ('airbnb_MOM.csv', index = None, header=True)"
   ]
  },
  {
   "cell_type": "code",
   "execution_count": null,
   "metadata": {},
   "outputs": [],
   "source": []
  },
  {
   "cell_type": "code",
   "execution_count": null,
   "metadata": {},
   "outputs": [],
   "source": []
  },
  {
   "cell_type": "code",
   "execution_count": null,
   "metadata": {},
   "outputs": [],
   "source": []
  },
  {
   "cell_type": "code",
   "execution_count": null,
   "metadata": {},
   "outputs": [],
   "source": []
  },
  {
   "cell_type": "code",
   "execution_count": null,
   "metadata": {},
   "outputs": [],
   "source": []
  },
  {
   "cell_type": "code",
   "execution_count": null,
   "metadata": {},
   "outputs": [],
   "source": []
  },
  {
   "cell_type": "code",
   "execution_count": null,
   "metadata": {},
   "outputs": [],
   "source": []
  },
  {
   "cell_type": "code",
   "execution_count": null,
   "metadata": {},
   "outputs": [],
   "source": []
  },
  {
   "cell_type": "code",
   "execution_count": null,
   "metadata": {},
   "outputs": [],
   "source": []
  },
  {
   "cell_type": "code",
   "execution_count": null,
   "metadata": {},
   "outputs": [],
   "source": []
  },
  {
   "cell_type": "code",
   "execution_count": null,
   "metadata": {},
   "outputs": [],
   "source": []
  },
  {
   "cell_type": "code",
   "execution_count": null,
   "metadata": {},
   "outputs": [],
   "source": []
  },
  {
   "cell_type": "code",
   "execution_count": 6,
   "metadata": {},
   "outputs": [
    {
     "data": {
      "text/plain": [
       "\"\\ndr = os.getcwd()\\nfdr = 'Airbnb-M'\\nin_f1 = 'listings 1.csv'\\nin_f2 = 'listings 2.csv'\\nin_f3 = 'listings 3.csv'\\nin_f4 = 'listings 4.csv'\\nin_f5 = 'listings 5.csv'\\nin_f6 = 'listings 6.csv'\\nin_f7 = 'listings 7.csv'\\nin_f8 = 'listings 8.csv'\\nin_f9 = 'listings 9.csv'\\nin_f10 = 'listings 10.csv'\\nin_f11 = 'listings 11.csv'\\nin_f12 = 'listings 12.csv'\\n\\n\\ntarget1 = os.path.join(dr,fdr,in_f1)\\ntarget2 = os.path.join(dr,fdr,in_f2)\\ntarget3 = os.path.join(dr,fdr,in_f3)\\ntarget4 = os.path.join(dr,fdr,in_f4)\\ntarget5 = os.path.join(dr,fdr,in_f5)\\ntarget6 = os.path.join(dr,fdr,in_f6)\\ntarget7 = os.path.join(dr,fdr,in_f7)\\ntarget8 = os.path.join(dr,fdr,in_f8)\\ntarget9 = os.path.join(dr,fdr,in_f9)\\ntarget10 = os.path.join(dr,fdr,in_f10)\\ntarget11 = os.path.join(dr,fdr,in_f11)\\ntarget12 = os.path.join(dr,fdr,in_f12)\\n\\n\\ndf1=pd.read_csv(target,index_col=False)\""
      ]
     },
     "execution_count": 6,
     "metadata": {},
     "output_type": "execute_result"
    }
   ],
   "source": [
    "'''\n",
    "dr = os.getcwd()\n",
    "fdr = 'Airbnb-M'\n",
    "in_f1 = 'listings 1.csv'\n",
    "in_f2 = 'listings 2.csv'\n",
    "in_f3 = 'listings 3.csv'\n",
    "in_f4 = 'listings 4.csv'\n",
    "in_f5 = 'listings 5.csv'\n",
    "in_f6 = 'listings 6.csv'\n",
    "in_f7 = 'listings 7.csv'\n",
    "in_f8 = 'listings 8.csv'\n",
    "in_f9 = 'listings 9.csv'\n",
    "in_f10 = 'listings 10.csv'\n",
    "in_f11 = 'listings 11.csv'\n",
    "in_f12 = 'listings 12.csv'\n",
    "\n",
    "\n",
    "target1 = os.path.join(dr,fdr,in_f1)\n",
    "target2 = os.path.join(dr,fdr,in_f2)\n",
    "target3 = os.path.join(dr,fdr,in_f3)\n",
    "target4 = os.path.join(dr,fdr,in_f4)\n",
    "target5 = os.path.join(dr,fdr,in_f5)\n",
    "target6 = os.path.join(dr,fdr,in_f6)\n",
    "target7 = os.path.join(dr,fdr,in_f7)\n",
    "target8 = os.path.join(dr,fdr,in_f8)\n",
    "target9 = os.path.join(dr,fdr,in_f9)\n",
    "target10 = os.path.join(dr,fdr,in_f10)\n",
    "target11 = os.path.join(dr,fdr,in_f11)\n",
    "target12 = os.path.join(dr,fdr,in_f12)\n",
    "\n",
    "\n",
    "df1=pd.read_csv(target,index_col=False)'''"
   ]
  }
 ],
 "metadata": {
  "kernelspec": {
   "display_name": "Python 3",
   "language": "python",
   "name": "python3"
  },
  "language_info": {
   "codemirror_mode": {
    "name": "ipython",
    "version": 3
   },
   "file_extension": ".py",
   "mimetype": "text/x-python",
   "name": "python",
   "nbconvert_exporter": "python",
   "pygments_lexer": "ipython3",
   "version": "3.7.5"
  },
  "toc": {
   "base_numbering": 1,
   "nav_menu": {},
   "number_sections": true,
   "sideBar": true,
   "skip_h1_title": false,
   "title_cell": "Table of Contents",
   "title_sidebar": "Contents",
   "toc_cell": false,
   "toc_position": {},
   "toc_section_display": true,
   "toc_window_display": false
  },
  "varInspector": {
   "cols": {
    "lenName": 16,
    "lenType": 16,
    "lenVar": 40
   },
   "kernels_config": {
    "python": {
     "delete_cmd_postfix": "",
     "delete_cmd_prefix": "del ",
     "library": "var_list.py",
     "varRefreshCmd": "print(var_dic_list())"
    },
    "r": {
     "delete_cmd_postfix": ") ",
     "delete_cmd_prefix": "rm(",
     "library": "var_list.r",
     "varRefreshCmd": "cat(var_dic_list()) "
    }
   },
   "types_to_exclude": [
    "module",
    "function",
    "builtin_function_or_method",
    "instance",
    "_Feature"
   ],
   "window_display": false
  }
 },
 "nbformat": 4,
 "nbformat_minor": 2
}
